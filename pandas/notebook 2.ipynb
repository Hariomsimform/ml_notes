{
 "cells": [
  {
   "cell_type": "code",
   "execution_count": 8,
   "id": "202b39b8",
   "metadata": {},
   "outputs": [],
   "source": [
    "#simple explanation of generators\n",
    "def first_n_numbers():\n",
    "    for i in range(10):\n",
    "        yield i\n",
    "first_n = first_n_numbers()        "
   ]
  },
  {
   "cell_type": "code",
   "execution_count": 17,
   "id": "3cb4067d",
   "metadata": {},
   "outputs": [],
   "source": [
    "# here we are using iterator that we created using above generator\n",
    "for n in first_n:\n",
    "    print(n)"
   ]
  },
  {
   "cell_type": "code",
   "execution_count": null,
   "id": "f2cc32e6",
   "metadata": {},
   "outputs": [],
   "source": []
  },
  {
   "cell_type": "code",
   "execution_count": 2,
   "id": "9281bdf3",
   "metadata": {},
   "outputs": [
    {
     "name": "stdout",
     "output_type": "stream",
     "text": [
      "('Alice', 85)\n",
      "Alice\n",
      "('Bob', 92)\n",
      "Bob\n",
      "('Charlie', 78)\n",
      "('David', 95)\n",
      "David\n",
      "('Eve', 60)\n"
     ]
    }
   ],
   "source": []
  },
  {
   "cell_type": "code",
   "execution_count": null,
   "id": "20dadbab",
   "metadata": {},
   "outputs": [],
   "source": [
    "def sum_num(n):\n",
    "    if n == 0 or n == 1:\n",
    "        print(1)\n",
    "        return 1\n",
    "    else:\n",
    "        return n + sum_num(n - 1)\n",
    "\n",
    "result = sum_num(5)  # Calculates 5! = 5 + 4 + 3 + 2 + 1 = 15\n",
    "print(result)  # Output: 120\n",
    "\n",
    "# 5 + 4 + 3 + 2 + 1"
   ]
  },
  {
   "cell_type": "code",
   "execution_count": 22,
   "id": "3a79d077",
   "metadata": {},
   "outputs": [
    {
     "name": "stdout",
     "output_type": "stream",
     "text": [
      "2\n"
     ]
    }
   ],
   "source": [
    "def fibonacci(n):\n",
    "    if n <= 0:\n",
    "        return 0\n",
    "    elif n == 1:\n",
    "        return 1\n",
    "    else:\n",
    "#         print(\"calling => fibonacci(n - 1)\")\n",
    "#         print(\"calling => fibonacci(n - 2)\")\n",
    "        return fibonacci(n - 1) + fibonacci(n - 2)\n",
    "\n",
    "result = fibonacci(3)  # Calculates the 6th Fibonacci number: 0, 1, 1, 2, 3, 5, ...\n",
    "print(result)  # Output: 8"
   ]
  },
  {
   "cell_type": "code",
   "execution_count": null,
   "id": "ca383b36",
   "metadata": {},
   "outputs": [],
   "source": [
    "       3\n",
    "    2    \n",
    "  1   0\n",
    "    "
   ]
  }
 ],
 "metadata": {
  "kernelspec": {
   "display_name": "Python 3 (ipykernel)",
   "language": "python",
   "name": "python3"
  },
  "language_info": {
   "codemirror_mode": {
    "name": "ipython",
    "version": 3
   },
   "file_extension": ".py",
   "mimetype": "text/x-python",
   "name": "python",
   "nbconvert_exporter": "python",
   "pygments_lexer": "ipython3",
   "version": "3.11.3"
  }
 },
 "nbformat": 4,
 "nbformat_minor": 5
}
