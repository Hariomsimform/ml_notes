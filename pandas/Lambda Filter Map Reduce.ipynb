{
 "cells": [
  {
   "cell_type": "code",
   "execution_count": 14,
   "id": "abc01e96",
   "metadata": {},
   "outputs": [],
   "source": [
    "my_list = [1, 2, 3, 4, 6]\n",
    "# def double(x):\n",
    "#     return x*2\n",
    "\n",
    "# double = list(map(double, my_list))\n",
    "double = list(map(lambda x: x*2, my_list))"
   ]
  },
  {
   "cell_type": "code",
   "execution_count": 15,
   "id": "2f7df3c5",
   "metadata": {},
   "outputs": [
    {
     "data": {
      "text/plain": [
       "[2, 4, 6, 8, 12]"
      ]
     },
     "execution_count": 15,
     "metadata": {},
     "output_type": "execute_result"
    }
   ],
   "source": [
    "double"
   ]
  },
  {
   "cell_type": "code",
   "execution_count": 39,
   "id": "ae2e717e",
   "metadata": {},
   "outputs": [],
   "source": [
    "names = [\"Akhil\", \"Abid\", \"Priyanka\"]\n",
    "surnames = [\"Mehta\", \"Khan\", \"Arora\"]\n",
    "\n",
    "\n",
    "def combine_func(first, second):\n",
    "    return f\"{second} {first}\"\n",
    "\n",
    "\n",
    "combine_name = map(combine_func, names, surnames )"
   ]
  },
  {
   "cell_type": "code",
   "execution_count": 40,
   "id": "9ccb9a36",
   "metadata": {},
   "outputs": [
    {
     "data": {
      "text/plain": [
       "<map at 0x1ef3baea740>"
      ]
     },
     "execution_count": 40,
     "metadata": {},
     "output_type": "execute_result"
    }
   ],
   "source": [
    "combine_name"
   ]
  },
  {
   "cell_type": "code",
   "execution_count": 41,
   "id": "40949668",
   "metadata": {},
   "outputs": [
    {
     "data": {
      "text/plain": [
       "['Mehta Akhil', 'Khan Abid', 'Arora Priyanka']"
      ]
     },
     "execution_count": 41,
     "metadata": {},
     "output_type": "execute_result"
    }
   ],
   "source": [
    "list(combine_name)"
   ]
  },
  {
   "cell_type": "code",
   "execution_count": null,
   "id": "be47ca70",
   "metadata": {},
   "outputs": [],
   "source": []
  }
 ],
 "metadata": {
  "kernelspec": {
   "display_name": "Python 3 (ipykernel)",
   "language": "python",
   "name": "python3"
  },
  "language_info": {
   "codemirror_mode": {
    "name": "ipython",
    "version": 3
   },
   "file_extension": ".py",
   "mimetype": "text/x-python",
   "name": "python",
   "nbconvert_exporter": "python",
   "pygments_lexer": "ipython3",
   "version": "3.11.3"
  }
 },
 "nbformat": 4,
 "nbformat_minor": 5
}
