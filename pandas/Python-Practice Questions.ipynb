{
 "cells": [
  {
   "cell_type": "markdown",
   "id": "650c9380",
   "metadata": {},
   "source": [
    "# 4. Write a Python program to reverse a given string without using string slicing."
   ]
  },
  {
   "cell_type": "code",
   "execution_count": 3,
   "id": "76348e4f",
   "metadata": {},
   "outputs": [
    {
     "name": "stdout",
     "output_type": "stream",
     "text": [
      "Python\n",
      "P\n",
      "yP\n",
      "tyP\n",
      "htyP\n",
      "ohtyP\n",
      "nohtyP\n",
      "nohtyP\n"
     ]
    }
   ],
   "source": [
    "# inputVal = \"Python\"\n",
    "# outputVal = \"nohtyP\"\n",
    "\n",
    "input_var = input()\n",
    "output_var = \"\" \n",
    "for chr in input_var:\n",
    "    output_var = chr+output_var\n",
    "    print(output_var)\n",
    "print(output_var)    \n",
    "\n",
    "\n",
    "# 1st: output_var+chr= \"n\"\n",
    "# 2nd: output_var+char = \"n\"+\"o\" = \"no\"\n",
    "    \n",
    "\n"
   ]
  },
  {
   "cell_type": "markdown",
   "id": "0167160f",
   "metadata": {},
   "source": [
    "# 5. You are given a dictionary input_dict containing key-value pairs. Write a Python program to create a new dictionary output_dict where the keys are unique values from the input_dict and the values are lists of keys from the input_dict that share the same value."
   ]
  },
  {
   "cell_type": "code",
   "execution_count": 4,
   "id": "19a44296",
   "metadata": {},
   "outputs": [
    {
     "name": "stdout",
     "output_type": "stream",
     "text": [
      "dict_items([('a', 1), ('b', 2), ('c', 1)])\n"
     ]
    }
   ],
   "source": [
    "input_dict = {\"a\":1, \"b\": 2, \"c\": 1}\n",
    "\n",
    "output_dict = {1: [\"a\", \"c\"], 2:[\"b\"]}\n",
    "output_dict = {}\n",
    "# print(input_dict.items())\n",
    "for key, value in input_dict.items():\n",
    "    if value in output_dict:\n",
    "        \n",
    "    "
   ]
  },
  {
   "cell_type": "markdown",
   "id": "a39465ca",
   "metadata": {},
   "source": [
    "# 6. Write a program to find the first multiple of 7 after 100 that is also divisible by 5."
   ]
  },
  {
   "cell_type": "code",
   "execution_count": 6,
   "id": "75133dc1",
   "metadata": {},
   "outputs": [
    {
     "name": "stdout",
     "output_type": "stream",
     "text": [
      "105\n"
     ]
    }
   ],
   "source": [
    "num = 100\n",
    "while True:\n",
    "    num+=1\n",
    "    if num%7==0 and num%5==0: \n",
    "        break\n",
    "print(num)"
   ]
  },
  {
   "cell_type": "markdown",
   "id": "6f138f38",
   "metadata": {},
   "source": [
    "# 7. Write a program that finds the smallest positive integer that is evenly divisible by all numbers from 1 to 10."
   ]
  },
  {
   "cell_type": "code",
   "execution_count": 7,
   "id": "9790e88f",
   "metadata": {},
   "outputs": [
    {
     "name": "stdout",
     "output_type": "stream",
     "text": [
      "no is divisible by all:  2520\n"
     ]
    }
   ],
   "source": [
    "num = 1\n",
    "while True:\n",
    "    divisible = True\n",
    "    for i in range(1, 11):\n",
    "        if num%i!=0:\n",
    "            divisible = False\n",
    "            break\n",
    "    if divisible:\n",
    "        print(\"no is divisible by all: \", num)\n",
    "        break\n",
    "    num+=1"
   ]
  },
  {
   "cell_type": "markdown",
   "id": "df1121d1",
   "metadata": {},
   "source": [
    "# 8. Write a program to find the sum of all even digits in a given integer."
   ]
  },
  {
   "cell_type": "code",
   "execution_count": null,
   "id": "1d396cd7",
   "metadata": {},
   "outputs": [],
   "source": []
  }
 ],
 "metadata": {
  "kernelspec": {
   "display_name": "Python 3 (ipykernel)",
   "language": "python",
   "name": "python3"
  },
  "language_info": {
   "codemirror_mode": {
    "name": "ipython",
    "version": 3
   },
   "file_extension": ".py",
   "mimetype": "text/x-python",
   "name": "python",
   "nbconvert_exporter": "python",
   "pygments_lexer": "ipython3",
   "version": "3.11.3"
  }
 },
 "nbformat": 4,
 "nbformat_minor": 5
}
