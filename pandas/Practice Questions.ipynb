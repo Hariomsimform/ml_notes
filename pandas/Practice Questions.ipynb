{
 "cells": [
  {
   "cell_type": "markdown",
   "id": "3de34b4b",
   "metadata": {},
   "source": [
    "# Question 1: Reverse a String\n",
    "### Write a Python function reverse_string(s) that takes a string s and returns the string reversed.\n",
    "\n",
    "# Question 2: Find the Maximum Number in a List\n",
    "### Write a Python function find_max(nums) that takes a list of numbers nums and returns the maximum number in the list.\n",
    "\n",
    "# Question 3: Check for Palindrome\n",
    "### Write a Python function is_palindrome(s) that takes a string s and returns True if it is a palindrome (reads the same forwards and backwards), otherwise False.\n",
    "\n",
    "# Question 4: Count Occurrences in a String\n",
    "### Write a Python function count_occurrences(s, target) that takes a string s and a target substring target, and returns the count of how many times target appears in s.\n",
    "\n",
    "# Question 5: Remove Duplicates from a List\n",
    "### Write a Python function remove_duplicates(nums) that takes a list of numbers nums and returns a new list with duplicates removed."
   ]
  },
  {
   "cell_type": "code",
   "execution_count": 2,
   "id": "c7db852e",
   "metadata": {},
   "outputs": [
    {
     "name": "stdout",
     "output_type": "stream",
     "text": [
      "nohtyP\n"
     ]
    }
   ],
   "source": [
    "# Reverse a string\n",
    "\n",
    "string = \"Python\"\n",
    "\n",
    "output = \"nohtyP\"\n",
    "output_str = \"\"\n",
    "for s in string:\n",
    "    output_str = s+output_str \n",
    "\n",
    "#1st output_str = \"P\" + \"\" = \"P\"\n",
    "#2nd output_str = \"y\"+\"P\" = \"yP\"\n",
    "#3rd output_str = \"t\"+ \"yP\" = \"tyP\"\n",
    "#4th output_str = \"h\" + \"tyP\" = \"htyP\"\n",
    "#5th output_str = \"o\" + \"htyP\" = \"ohtyP\"\n",
    "#6th output_str = \"n\" + \"ohtyP\" = \"nohtyP\"\n",
    "\n",
    "print(output_str)\n",
    "    \n",
    "    \n"
   ]
  },
  {
   "cell_type": "code",
   "execution_count": null,
   "id": "e844a7f6",
   "metadata": {},
   "outputs": [],
   "source": []
  }
 ],
 "metadata": {
  "kernelspec": {
   "display_name": "Python 3 (ipykernel)",
   "language": "python",
   "name": "python3"
  },
  "language_info": {
   "codemirror_mode": {
    "name": "ipython",
    "version": 3
   },
   "file_extension": ".py",
   "mimetype": "text/x-python",
   "name": "python",
   "nbconvert_exporter": "python",
   "pygments_lexer": "ipython3",
   "version": "3.11.3"
  }
 },
 "nbformat": 4,
 "nbformat_minor": 5
}
