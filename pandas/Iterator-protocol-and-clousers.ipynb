{
 "cells": [
  {
   "cell_type": "markdown",
   "id": "0831faac",
   "metadata": {},
   "source": [
    "1. Closures:\n",
    "A closure is a function that remembers the environment in which it was created, even after the outer function has finished executing. In other words, a closure allows a function to \"capture\" and retain the values of variables from its surrounding scope, even if those variables would normally go out of scope and be destroyed."
   ]
  },
  {
   "cell_type": "code",
   "execution_count": 11,
   "id": "3275bad8",
   "metadata": {},
   "outputs": [
    {
     "ename": "TypeError",
     "evalue": "'NoneType' object is not callable",
     "output_type": "error",
     "traceback": [
      "\u001b[1;31m---------------------------------------------------------------------------\u001b[0m",
      "\u001b[1;31mTypeError\u001b[0m                                 Traceback (most recent call last)",
      "Cell \u001b[1;32mIn[11], line 7\u001b[0m\n\u001b[0;32m      4\u001b[0m \u001b[38;5;66;03m#     return inner_function\u001b[39;00m\n\u001b[0;32m      6\u001b[0m closure \u001b[38;5;241m=\u001b[39m outer_function(\u001b[38;5;241m10\u001b[39m)\n\u001b[1;32m----> 7\u001b[0m result \u001b[38;5;241m=\u001b[39m \u001b[43mclosure\u001b[49m\u001b[43m(\u001b[49m\u001b[38;5;241;43m5\u001b[39;49m\u001b[43m)\u001b[49m  \u001b[38;5;66;03m# result is 15 because the inner function remembers the value of x as 10\u001b[39;00m\n",
      "\u001b[1;31mTypeError\u001b[0m: 'NoneType' object is not callable"
     ]
    }
   ],
   "source": [
    "def outer_function(x):\n",
    "    def inner_function(y):\n",
    "        return x + y\n",
    "    return inner_function\n",
    "\n",
    "closure = outer_function(10)\n",
    "result = closure(5)  # result is 15 because the inner function remembers the value of x as 10\n"
   ]
  },
  {
   "cell_type": "code",
   "execution_count": 6,
   "id": "88d3e946",
   "metadata": {},
   "outputs": [
    {
     "data": {
      "text/plain": [
       "1"
      ]
     },
     "execution_count": 6,
     "metadata": {},
     "output_type": "execute_result"
    }
   ],
   "source": [
    "#iterator Protocol\n",
    "\n",
    "class MyIterator:\n",
    "    def __init__(self, start, end):\n",
    "        self.current = start\n",
    "        self.end = end\n",
    "\n",
    "#     def __iter__(self):\n",
    "#         return self\n",
    "\n",
    "    def __next__(self):\n",
    "        if self.current < self.end:\n",
    "            result = self.current\n",
    "            self.current += 1\n",
    "            return result\n",
    "        raise StopIteration\n",
    "\n",
    "# Using the custom iterator\n",
    "my_iterator = MyIterator(1, 4)\n",
    "\n",
    "next(my_iterator)\n",
    "\n",
    "\n",
    "# for item in my_iterator:\n",
    "#     print(item)  # Output: 1, 2, 3\n"
   ]
  },
  {
   "cell_type": "code",
   "execution_count": 7,
   "id": "8291c879",
   "metadata": {},
   "outputs": [
    {
     "data": {
      "text/plain": [
       "2"
      ]
     },
     "execution_count": 7,
     "metadata": {},
     "output_type": "execute_result"
    }
   ],
   "source": [
    "next(my_iterator)"
   ]
  },
  {
   "cell_type": "code",
   "execution_count": 8,
   "id": "2b3d5f08",
   "metadata": {},
   "outputs": [
    {
     "data": {
      "text/plain": [
       "3"
      ]
     },
     "execution_count": 8,
     "metadata": {},
     "output_type": "execute_result"
    }
   ],
   "source": [
    "next(my_iterator)"
   ]
  },
  {
   "cell_type": "code",
   "execution_count": 9,
   "id": "7ee38ff2",
   "metadata": {},
   "outputs": [
    {
     "ename": "StopIteration",
     "evalue": "",
     "output_type": "error",
     "traceback": [
      "\u001b[1;31m---------------------------------------------------------------------------\u001b[0m",
      "\u001b[1;31mStopIteration\u001b[0m                             Traceback (most recent call last)",
      "Cell \u001b[1;32mIn[9], line 1\u001b[0m\n\u001b[1;32m----> 1\u001b[0m \u001b[38;5;28;43mnext\u001b[39;49m\u001b[43m(\u001b[49m\u001b[43mmy_iterator\u001b[49m\u001b[43m)\u001b[49m\n",
      "Cell \u001b[1;32mIn[6], line 16\u001b[0m, in \u001b[0;36mMyIterator.__next__\u001b[1;34m(self)\u001b[0m\n\u001b[0;32m     14\u001b[0m     \u001b[38;5;28mself\u001b[39m\u001b[38;5;241m.\u001b[39mcurrent \u001b[38;5;241m+\u001b[39m\u001b[38;5;241m=\u001b[39m \u001b[38;5;241m1\u001b[39m\n\u001b[0;32m     15\u001b[0m     \u001b[38;5;28;01mreturn\u001b[39;00m result\n\u001b[1;32m---> 16\u001b[0m \u001b[38;5;28;01mraise\u001b[39;00m \u001b[38;5;167;01mStopIteration\u001b[39;00m\n",
      "\u001b[1;31mStopIteration\u001b[0m: "
     ]
    }
   ],
   "source": [
    "next(my_iterator)"
   ]
  },
  {
   "cell_type": "code",
   "execution_count": null,
   "id": "dff34d08",
   "metadata": {},
   "outputs": [],
   "source": []
  }
 ],
 "metadata": {
  "kernelspec": {
   "display_name": "Python 3 (ipykernel)",
   "language": "python",
   "name": "python3"
  },
  "language_info": {
   "codemirror_mode": {
    "name": "ipython",
    "version": 3
   },
   "file_extension": ".py",
   "mimetype": "text/x-python",
   "name": "python",
   "nbconvert_exporter": "python",
   "pygments_lexer": "ipython3",
   "version": "3.11.3"
  }
 },
 "nbformat": 4,
 "nbformat_minor": 5
}
